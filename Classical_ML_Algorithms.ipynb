{
  "nbformat": 4,
  "nbformat_minor": 0,
  "metadata": {
    "colab": {
      "provenance": [],
      "authorship_tag": "ABX9TyMLQ5o8eTL2LpNv9aoNHC+e",
      "include_colab_link": true
    },
    "kernelspec": {
      "name": "python3",
      "display_name": "Python 3"
    },
    "language_info": {
      "name": "python"
    }
  },
  "cells": [
    {
      "cell_type": "markdown",
      "metadata": {
        "id": "view-in-github",
        "colab_type": "text"
      },
      "source": [
        "<a href=\"https://colab.research.google.com/github/Igben-Nehemiah/ML-practice/blob/main/Classical_ML_Algorithms.ipynb\" target=\"_parent\"><img src=\"https://colab.research.google.com/assets/colab-badge.svg\" alt=\"Open In Colab\"/></a>"
      ]
    },
    {
      "cell_type": "markdown",
      "source": [
        "# Dimension Reduction and Latent Variable Methods"
      ],
      "metadata": {
        "id": "Sx8pREowUDHx"
      }
    },
    {
      "cell_type": "code",
      "source": [],
      "metadata": {
        "id": "B4IN5MWQUGgQ"
      },
      "execution_count": null,
      "outputs": []
    }
  ]
}